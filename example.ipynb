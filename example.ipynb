{
 "cells": [
  {
   "cell_type": "code",
   "execution_count": 1,
   "metadata": {},
   "outputs": [
    {
     "name": "stdout",
     "output_type": "stream",
     "text": [
      "pygame 2.6.0 (SDL 2.28.4, Python 3.11.9)\n",
      "Hello from the pygame community. https://www.pygame.org/contribute.html\n"
     ]
    }
   ],
   "source": [
    "import gymnasium as gym\n",
    "from minigrid_bt.policy import BehaviorTreePolicy\n",
    "from minigrid_bt.env_initialization import initialize_env\n",
    "from minigrid_bt.main import create_ObstructedMaze_bt, create_Empty_bt\n",
    "from minigrid_bt.utils import ExtendedFlatObsWrapper, ReconstructObsWrapper\n",
    "from minigrid.wrappers import FullyObsWrapper\n"
   ]
  },
  {
   "cell_type": "code",
   "execution_count": 2,
   "metadata": {},
   "outputs": [
    {
     "name": "stderr",
     "output_type": "stream",
     "text": [
      "/home/negrao/anaconda3/envs/minigrid_bt/lib/python3.11/site-packages/gymnasium/core.py:311: UserWarning: \u001b[33mWARN: env.width to get variables from other wrappers is deprecated and will be removed in v1.0, to get this variable you can do `env.unwrapped.width` for environment variables or `env.get_wrapper_attr('width')` that will search the reminding wrappers.\u001b[0m\n",
      "  logger.warn(\n",
      "/home/negrao/anaconda3/envs/minigrid_bt/lib/python3.11/site-packages/gymnasium/core.py:311: UserWarning: \u001b[33mWARN: env.height to get variables from other wrappers is deprecated and will be removed in v1.0, to get this variable you can do `env.unwrapped.height` for environment variables or `env.get_wrapper_attr('height')` that will search the reminding wrappers.\u001b[0m\n",
      "  logger.warn(\n"
     ]
    },
    {
     "name": "stdout",
     "output_type": "stream",
     "text": [
      "Final reward: 0.95625\n"
     ]
    }
   ],
   "source": [
    "# List of environment IDs\n",
    "env_ids = [\n",
    "    \"MiniGrid-ObstructedMaze-1Dlhb-v0\",    \n",
    "    \"MiniGrid-Empty-6x6-v0\",\n",
    "    \"MiniGrid-Empty-8x8-v0\",\n",
    "    \"MiniGrid-Empty-Random-5x5-v0\",\n",
    "    \"MiniGrid-Empty-Random-6x6-v0\",\n",
    "    \"BabyAI-GoToRedBallNoDists-v0\",\n",
    "    \"MiniGrid-DistShift2-v0\",\n",
    "    \"MiniGrid-LavaGapS7-v0\",\n",
    "    \"MiniGrid-FourRooms-v0\",\n",
    "    \"MiniGrid-MultiRoom-N6-v0\",\n",
    "    \"MiniGrid-SimpleCrossingS11N5-v0\",\n",
    "    \"MiniGrid-LavaCrossingS11N5-v0\",\n",
    "    \"MiniGrid-Unlock-v0\",\n",
    "    \"MiniGrid-DoorKey-8x8-v0\",\n",
    "    \"MiniGrid-UnlockPickup-v0\"\n",
    "]\n",
    "\n",
    "# Choose the environment ID and the corresponding behavior tree creation function\n",
    "env_id = env_ids[1]  # or any other from the list\n",
    "tree_creation_func = create_Empty_bt  # or create_another_behaviour_tree\n",
    "\n",
    "# Initialize the environment and capture the image shape\n",
    "env, image_shape = initialize_env(env_id)\n",
    "\n",
    "# Get observation space and action space by initializing the environment once\n",
    "observation_space = env.observation_space\n",
    "action_space = env.action_space\n",
    "\n",
    "# Create the behavior tree policy\n",
    "policy = BehaviorTreePolicy(\n",
    "    observation_space=observation_space,\n",
    "    action_space=action_space,\n",
    "    env=env,\n",
    "    image_shape=image_shape,\n",
    "    tree_creation_func=tree_creation_func,\n",
    "    reconstruct_obs_wrapper_class=ReconstructObsWrapper\n",
    ")\n",
    "\n",
    "# Reset the environment and get the initial observation\n",
    "obs = policy.env.reset()\n",
    "\n",
    "# Accessing width and height attributes properly\n",
    "width = policy.env.unwrapped.width if hasattr(policy.env.unwrapped, 'width') else policy.env.get_wrapper_attr('width')\n",
    "height = policy.env.unwrapped.height if hasattr(policy.env.unwrapped, 'height') else policy.env.get_wrapper_attr('height')\n",
    "\n",
    "# Render the initial state of the environment\n",
    "policy.env.render()\n",
    "\n",
    "# Cell 3: Define the Main Loop\n",
    "\n",
    "done = False\n",
    "\n",
    "while not done:\n",
    "    # Predict the next action using the behavior tree policy\n",
    "    action, _ = policy.predict(obs)\n",
    "\n",
    "    if action is not None:\n",
    "        # Step the environment using the action\n",
    "        obs, reward, done, info, *_ = policy.env.step(action)\n",
    "\n",
    "        # Render the updated state of the environment\n",
    "        policy.env.render()\n",
    "    else:\n",
    "        print(\"Waiting for action decision...\")\n",
    "\n",
    "print(f\"Final reward: {reward}\")\n",
    "policy.env.close()"
   ]
  }
 ],
 "metadata": {
  "kernelspec": {
   "display_name": "minigrid_bt",
   "language": "python",
   "name": "python3"
  },
  "language_info": {
   "codemirror_mode": {
    "name": "ipython",
    "version": 3
   },
   "file_extension": ".py",
   "mimetype": "text/x-python",
   "name": "python",
   "nbconvert_exporter": "python",
   "pygments_lexer": "ipython3",
   "version": "3.11.9"
  }
 },
 "nbformat": 4,
 "nbformat_minor": 2
}
